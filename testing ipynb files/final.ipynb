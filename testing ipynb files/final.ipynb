{
 "cells": [
  {
   "cell_type": "code",
   "execution_count": 1,
   "id": "ffb294bc",
   "metadata": {},
   "outputs": [
    {
     "name": "stderr",
     "output_type": "stream",
     "text": [
      "[nltk_data] Downloading package punkt to\n",
      "[nltk_data]     C:\\Users\\31kus\\AppData\\Roaming\\nltk_data...\n",
      "[nltk_data]   Package punkt is already up-to-date!\n"
     ]
    }
   ],
   "source": [
    "import nltk\n",
    "from nltk.tokenize import sent_tokenize , word_tokenize\n",
    "nltk.download('punkt')\n",
    "\n",
    "from nltk.corpus import stopwords\n",
    "from nltk.stem import PorterStemmer\n",
    "\n",
    "import glob\n",
    "import re\n",
    "import os\n",
    "import numpy as np\n",
    "import sys\n",
    "\n",
    "from collections import defaultdict\n",
    "from collections import deque\n",
    "from functions import *"
   ]
  },
  {
   "cell_type": "code",
   "execution_count": 2,
   "id": "ddeae742",
   "metadata": {},
   "outputs": [],
   "source": [
    "foldername='data'\n",
    "dataset=getList(foldername)\n",
    "# print(dataset)"
   ]
  },
  {
   "cell_type": "code",
   "execution_count": 3,
   "id": "8cd574d7",
   "metadata": {},
   "outputs": [
    {
     "name": "stderr",
     "output_type": "stream",
     "text": [
      "[nltk_data] Downloading package punkt to\n",
      "[nltk_data]     C:\\Users\\31kus\\AppData\\Roaming\\nltk_data...\n",
      "[nltk_data]   Package punkt is already up-to-date!\n"
     ]
    },
    {
     "name": "stdout",
     "output_type": "stream",
     "text": [
      "data\\a-midsummer-nights-dream_TXT_FolgerShakespeare.txt\n",
      "data\\alls-well-that-ends-well_TXT_FolgerShakespeare.txt\n",
      "data\\antony-and-cleopatra_TXT_FolgerShakespeare.txt\n",
      "data\\as-you-like-it_TXT_FolgerShakespeare.txt\n",
      "data\\coriolanus_TXT_FolgerShakespeare.txt\n",
      "data\\cymbeline_TXT_FolgerShakespeare.txt\n",
      "data\\hamlet_TXT_FolgerShakespeare.txt\n",
      "data\\henry-iv-part-1_TXT_FolgerShakespeare.txt\n",
      "data\\henry-iv-part-2_TXT_FolgerShakespeare.txt\n",
      "data\\henry-vi-part-1_TXT_FolgerShakespeare.txt\n",
      "data\\henry-vi-part-2_TXT_FolgerShakespeare.txt\n",
      "data\\henry-vi-part-3_TXT_FolgerShakespeare.txt\n",
      "data\\henry-viii_TXT_FolgerShakespeare.txt\n",
      "data\\henry-v_TXT_FolgerShakespeare.txt\n",
      "data\\julius-caesar_TXT_FolgerShakespeare.txt\n",
      "data\\king-john_TXT_FolgerShakespeare.txt\n",
      "data\\king-lear_TXT_FolgerShakespeare.txt\n",
      "data\\loves-labors-lost_TXT_FolgerShakespeare.txt\n",
      "data\\lucrece_TXT_FolgerShakespeare.txt\n",
      "data\\macbeth_TXT_FolgerShakespeare.txt\n",
      "data\\measure-for-measure_TXT_FolgerShakespeare.txt\n",
      "data\\much-ado-about-nothing_TXT_FolgerShakespeare.txt\n",
      "data\\othello_TXT_FolgerShakespeare.txt\n",
      "data\\pericles_TXT_FolgerShakespeare.txt\n",
      "data\\richard-iii_TXT_FolgerShakespeare.txt\n",
      "data\\richard-ii_TXT_FolgerShakespeare.txt\n",
      "data\\romeo-and-juliet_TXT_FolgerShakespeare.txt\n",
      "data\\shakespeares-sonnets_TXT_FolgerShakespeare.txt\n",
      "data\\the-comedy-of-errors_TXT_FolgerShakespeare.txt\n",
      "data\\the-merchant-of-venice_TXT_FolgerShakespeare.txt\n",
      "data\\the-merry-wives-of-windsor_TXT_FolgerShakespeare.txt\n",
      "data\\the-phoenix-and-turtle_TXT_FolgerShakespeare.txt\n",
      "data\\the-taming-of-the-shrew_TXT_FolgerShakespeare.txt\n",
      "data\\the-tempest_TXT_FolgerShakespeare.txt\n",
      "data\\the-two-gentlemen-of-verona_TXT_FolgerShakespeare.txt\n",
      "data\\the-two-noble-kinsmen_TXT_FolgerShakespeare.txt\n",
      "data\\the-winters-tale_TXT_FolgerShakespeare.txt\n",
      "data\\timon-of-athens_TXT_FolgerShakespeare.txt\n",
      "data\\titus-andronicus_TXT_FolgerShakespeare.txt\n",
      "data\\troilus-and-cressida_TXT_FolgerShakespeare.txt\n",
      "data\\twelfth-night_TXT_FolgerShakespeare.txt\n",
      "data\\venus-and-adonis_TXT_FolgerShakespeare.txt\n"
     ]
    }
   ],
   "source": [
    "ii=inverted_index(dataset)\n",
    "\n",
    "freq_dict= {key: len(value) for key, value in ii.items()}\n",
    "#To get the frequency of each key and its permuterm\n",
    "\n",
    "# print(ii.keys())\n",
    "# print(freq_dict)"
   ]
  },
  {
   "cell_type": "code",
   "execution_count": 4,
   "id": "87c9f73f",
   "metadata": {},
   "outputs": [
    {
     "name": "stdout",
     "output_type": "stream",
     "text": [
      "Search Using AND,OR & NOT alongwith keywords.\n",
      "Wildcard entries added.\n",
      "Enter your query:brutus and calpurnia\n",
      "Matched Documents : 1\n",
      "data\\julius-caesar_TXT_FolgerShakespeare.txt\n"
     ]
    }
   ],
   "source": [
    "#Taking in query from the user\n",
    "print(\"Search Using AND,OR & NOT alongwith keywords.\")\n",
    "print(\"Wildcard entries added.\")\n",
    "\n",
    "query = input('Enter your query:')\n",
    "query = query.lower()\n",
    "query_tokens=query.split()\n",
    "\n",
    "connecting_words = []\n",
    "different_words = []\n",
    "\n",
    "ps=PorterStemmer()\n",
    "\n",
    "def getClosest(word):\n",
    "    '''\n",
    "    Function returns the closest word in the dictionary.\n",
    "    '''\n",
    "    dictionary = {}\n",
    "    for w in ii.keys():\n",
    "        dist=editDist(word,w)\n",
    "        dictionary[w]=dist\n",
    "        if dist == 1:\n",
    "            return w\n",
    "    v=(sorted(dictionary.items(), key=lambda item: item[1]))\n",
    "    return v[0][0]            #returns the key of the first key-value pair\n",
    "\n",
    "# Initializing a queue \n",
    "q = deque()\n",
    "\n",
    "for word in query_tokens:\n",
    "    word=ps.stem(word)\n",
    "    \n",
    "    if word.lower() != \"and\" and word.lower() != \"or\" and word.lower() != \"not\":\n",
    "        word=word+'$'\n",
    "        \n",
    "        if '*' in word:\n",
    "            while(word[-1]!='*'):\n",
    "                word=rotate(word,1) #to get * at the end of the search word\n",
    "        \n",
    "        different_words.append(word.lower())\n",
    "        \n",
    "        #check if we need to apply not operation on this word\n",
    "        if len(connecting_words)>0 and connecting_words[-1]==\"not\":\n",
    "            if word in ii.keys():\n",
    "                set_a=ii[word]\n",
    "                negated_set=(set(dataset).difference(set(set_a))) #typecasting to set\n",
    "                q.append(negated_set)\n",
    "            else:\n",
    "                cword=getClosest(word)\n",
    "                set_a=ii[cword]\n",
    "                negated_set=(set(dataset).difference(set(set_a)))\n",
    "                q.append(negated_set)\n",
    "            continue\n",
    "        \n",
    "        \n",
    "        if word in ii.keys():\n",
    "            q.append(ii[word])\n",
    "            \n",
    "        else:\n",
    "            cword=getClosest(word)\n",
    "            q.append(ii[cword])\n",
    "            \n",
    "    else:\n",
    "        connecting_words.append(word.lower())\n",
    "\n",
    "# print(connecting_words)\n",
    "# print(different_words)\n",
    "\n",
    "# allfiles=getList(\"testcase\")\n",
    "\n",
    "for connector in connecting_words:\n",
    "    if connector == 'not':\n",
    "        continue\n",
    "#         set_a= q.pop()\n",
    "#         q.appendleft(set(dataset).difference(set(set_a)))\n",
    "\n",
    "    elif connector == 'and':\n",
    "        set_a = q.pop()\n",
    "        set_b = q.pop()\n",
    "        intersected=set(set_a).intersection(set(set_b))\n",
    "        q.appendleft(intersected)\n",
    "        \n",
    "    elif connector == 'or':\n",
    "        set_a = q.pop()\n",
    "        set_b = q.pop()\n",
    "        unioned=set(set_a).union(set(set_b))\n",
    "        q.appendleft(unioned)\n",
    "\n",
    "outputset=q.pop()\n",
    "print(\"Matched Documents : \" + str(len(outputset)))\n",
    "print(*outputset,sep='\\n')"
   ]
  },
  {
   "cell_type": "code",
   "execution_count": null,
   "id": "54784439",
   "metadata": {},
   "outputs": [],
   "source": []
  }
 ],
 "metadata": {
  "kernelspec": {
   "display_name": "Python 3 (ipykernel)",
   "language": "python",
   "name": "python3"
  },
  "language_info": {
   "codemirror_mode": {
    "name": "ipython",
    "version": 3
   },
   "file_extension": ".py",
   "mimetype": "text/x-python",
   "name": "python",
   "nbconvert_exporter": "python",
   "pygments_lexer": "ipython3",
   "version": "3.9.7"
  }
 },
 "nbformat": 4,
 "nbformat_minor": 5
}
